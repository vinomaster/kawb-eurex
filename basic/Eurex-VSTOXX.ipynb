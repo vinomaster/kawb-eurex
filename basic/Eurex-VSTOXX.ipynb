{
 "metadata": {
  "name": "",
  "signature": "sha256:b894ab223b4df451a3cb167fce4657562442d1b0e4c66478819fbe0778b35f20"
 },
 "nbformat": 3,
 "nbformat_minor": 0,
 "worksheets": [
  {
   "cells": [
    {
     "cell_type": "markdown",
     "metadata": {},
     "source": [
      "# Analyzing Historical VSTOXX Data\n",
      "A Sample notebook based on the [EurEX Tutorial](http://www.eurexchange.com/vstoxx/b_Analyzing_Historical_VSTOXX_Data.html#index-1)"
     ]
    },
    {
     "cell_type": "raw",
     "metadata": {},
     "source": [
      "The data sets are for the periods from 31.12.1986 and 04.01.1999, respectively, to 28.12.2012. Prepared data sets can be downloaded her:\n",
      "\n",
      "EURO STOXX 50 data: es.txt\n",
      "VSTOXX data: vs.txt\n",
      "The meanings of the abbreviations in the EURO STOXX 50 file es.txt are as follows:\n",
      "\n",
      "SX5P: STOXX Europe 50 prices in EUR\n",
      "SX5E: EURO STOXX 50 prices in EUR\n",
      "SXXP: STOXX Europe 600 prices in EUR\n",
      "SXXE: EURO STOXX ESG Leaders 50 prices in EUR\n",
      "SXXF: STOXX Europe 600 ex UK prices in EUR\n",
      "SXXA: STOXX Europe 600 ex Eurozone prices in EUR\n",
      "DK5F: STOXX Nordic 30 prices in EUR\n",
      "DKXF: STOXX Nordic prices in EUR\n",
      "In the VSTOXX file, the meanings are vs.txt\n",
      "\n",
      "V2TX: VSTOXX-values\n",
      "V6I1: Sub-Index 1 month\n",
      "V6I2: Sub-Index 2 months\n",
      "V6I3: Sub-Index 3 months\n",
      "V6I4: Sub-Index 6 months\n",
      "V6I5: Sub-Index 9 months\n",
      "V6I6: Sub-Index 12 months\n",
      "V6I7: Sub-Index 18 months\n",
      "V6I8: Sub-Index 24 months"
     ]
    },
    {
     "cell_type": "markdown",
     "metadata": {},
     "source": [
      "## Data Munging\n",
      "Load, clean and transform our data."
     ]
    },
    {
     "cell_type": "code",
     "collapsed": false,
     "input": [
      "from pylab import *\n",
      "from pandas import *\n",
      "es = read_csv('/resources/es.txt', sep=';', index_col=0, parse_dates=True, dayfirst=True)\n",
      "vs = read_csv('/resources/vs.txt', sep=',', index_col=0, parse_dates=True, dayfirst=True)"
     ],
     "language": "python",
     "metadata": {},
     "outputs": [],
     "prompt_number": 10
    },
    {
     "cell_type": "code",
     "collapsed": false,
     "input": [
      "es.describe()"
     ],
     "language": "python",
     "metadata": {},
     "outputs": [
      {
       "html": [
        "<div style=\"max-height:1000px;max-width:1500px;overflow:auto;\">\n",
        "<table border=\"1\" class=\"dataframe\">\n",
        "  <thead>\n",
        "    <tr style=\"text-align: right;\">\n",
        "      <th></th>\n",
        "      <th>SX5P</th>\n",
        "      <th>SX5E</th>\n",
        "      <th>SXXP</th>\n",
        "      <th>SXXE</th>\n",
        "      <th>SXXF</th>\n",
        "      <th>SXXA</th>\n",
        "      <th>DK5F</th>\n",
        "      <th>DKXF</th>\n",
        "      <th>DEL</th>\n",
        "    </tr>\n",
        "  </thead>\n",
        "  <tbody>\n",
        "    <tr>\n",
        "      <th>count</th>\n",
        "      <td> 6707.000000</td>\n",
        "      <td> 6707.000000</td>\n",
        "      <td> 6707.000000</td>\n",
        "      <td> 6707.000000</td>\n",
        "      <td> 6707.000000</td>\n",
        "      <td> 6707.000000</td>\n",
        "      <td> 6707.000000</td>\n",
        "      <td> 6707.000000</td>\n",
        "      <td>  0</td>\n",
        "    </tr>\n",
        "    <tr>\n",
        "      <th>mean</th>\n",
        "      <td> 2291.899274</td>\n",
        "      <td> 2403.464984</td>\n",
        "      <td>  212.768260</td>\n",
        "      <td>  222.327155</td>\n",
        "      <td>  238.596119</td>\n",
        "      <td>  201.298986</td>\n",
        "      <td> 3958.073328</td>\n",
        "      <td>  272.399155</td>\n",
        "      <td>NaN</td>\n",
        "    </tr>\n",
        "    <tr>\n",
        "      <th>std</th>\n",
        "      <td> 1138.860688</td>\n",
        "      <td> 1219.650999</td>\n",
        "      <td>   93.983572</td>\n",
        "      <td>  103.606716</td>\n",
        "      <td>  113.135815</td>\n",
        "      <td>   84.456273</td>\n",
        "      <td> 2573.524155</td>\n",
        "      <td>  156.103534</td>\n",
        "      <td>NaN</td>\n",
        "    </tr>\n",
        "    <tr>\n",
        "      <th>min</th>\n",
        "      <td>  626.090000</td>\n",
        "      <td>  615.900000</td>\n",
        "      <td>   66.690000</td>\n",
        "      <td>   68.550000</td>\n",
        "      <td>   68.390000</td>\n",
        "      <td>   64.550000</td>\n",
        "      <td>  536.870000</td>\n",
        "      <td>   55.250000</td>\n",
        "      <td>NaN</td>\n",
        "    </tr>\n",
        "    <tr>\n",
        "      <th>25%</th>\n",
        "      <td> 1129.585000</td>\n",
        "      <td> 1140.685000</td>\n",
        "      <td>  111.660000</td>\n",
        "      <td>  120.650000</td>\n",
        "      <td>  119.775000</td>\n",
        "      <td>  111.695000</td>\n",
        "      <td> 1222.490000</td>\n",
        "      <td>  118.455000</td>\n",
        "      <td>NaN</td>\n",
        "    </tr>\n",
        "    <tr>\n",
        "      <th>50%</th>\n",
        "      <td> 2427.500000</td>\n",
        "      <td> 2468.450000</td>\n",
        "      <td>  225.280000</td>\n",
        "      <td>  225.780000</td>\n",
        "      <td>  250.300000</td>\n",
        "      <td>  215.530000</td>\n",
        "      <td> 4043.590000</td>\n",
        "      <td>  270.970000</td>\n",
        "      <td>NaN</td>\n",
        "    </tr>\n",
        "    <tr>\n",
        "      <th>75%</th>\n",
        "      <td> 3145.875000</td>\n",
        "      <td> 3304.345000</td>\n",
        "      <td>  284.215000</td>\n",
        "      <td>  298.920000</td>\n",
        "      <td>  323.280000</td>\n",
        "      <td>  273.010000</td>\n",
        "      <td> 6262.395000</td>\n",
        "      <td>  384.995000</td>\n",
        "      <td>NaN</td>\n",
        "    </tr>\n",
        "    <tr>\n",
        "      <th>max</th>\n",
        "      <td> 5183.240000</td>\n",
        "      <td> 5464.430000</td>\n",
        "      <td>  405.500000</td>\n",
        "      <td>  466.240000</td>\n",
        "      <td>  477.410000</td>\n",
        "      <td>  359.720000</td>\n",
        "      <td> 9449.200000</td>\n",
        "      <td>  776.820000</td>\n",
        "      <td>NaN</td>\n",
        "    </tr>\n",
        "  </tbody>\n",
        "</table>\n",
        "<p>8 rows \u00d7 9 columns</p>\n",
        "</div>"
       ],
       "metadata": {},
       "output_type": "pyout",
       "prompt_number": 11,
       "text": [
        "              SX5P         SX5E         SXXP         SXXE         SXXF  \\\n",
        "count  6707.000000  6707.000000  6707.000000  6707.000000  6707.000000   \n",
        "mean   2291.899274  2403.464984   212.768260   222.327155   238.596119   \n",
        "std    1138.860688  1219.650999    93.983572   103.606716   113.135815   \n",
        "min     626.090000   615.900000    66.690000    68.550000    68.390000   \n",
        "25%    1129.585000  1140.685000   111.660000   120.650000   119.775000   \n",
        "50%    2427.500000  2468.450000   225.280000   225.780000   250.300000   \n",
        "75%    3145.875000  3304.345000   284.215000   298.920000   323.280000   \n",
        "max    5183.240000  5464.430000   405.500000   466.240000   477.410000   \n",
        "\n",
        "              SXXA         DK5F         DKXF  DEL  \n",
        "count  6707.000000  6707.000000  6707.000000    0  \n",
        "mean    201.298986  3958.073328   272.399155  NaN  \n",
        "std      84.456273  2573.524155   156.103534  NaN  \n",
        "min      64.550000   536.870000    55.250000  NaN  \n",
        "25%     111.695000  1222.490000   118.455000  NaN  \n",
        "50%     215.530000  4043.590000   270.970000  NaN  \n",
        "75%     273.010000  6262.395000   384.995000  NaN  \n",
        "max     359.720000  9449.200000   776.820000  NaN  \n",
        "\n",
        "[8 rows x 9 columns]"
       ]
      }
     ],
     "prompt_number": 11
    },
    {
     "cell_type": "code",
     "collapsed": false,
     "input": [
      "# Remove the \"DEL\" column.\n",
      "del es['DEL']\n",
      "es.head()"
     ],
     "language": "python",
     "metadata": {},
     "outputs": [
      {
       "html": [
        "<div style=\"max-height:1000px;max-width:1500px;overflow:auto;\">\n",
        "<table border=\"1\" class=\"dataframe\">\n",
        "  <thead>\n",
        "    <tr style=\"text-align: right;\">\n",
        "      <th></th>\n",
        "      <th>SX5P</th>\n",
        "      <th>SX5E</th>\n",
        "      <th>SXXP</th>\n",
        "      <th>SXXE</th>\n",
        "      <th>SXXF</th>\n",
        "      <th>SXXA</th>\n",
        "      <th>DK5F</th>\n",
        "      <th>DKXF</th>\n",
        "    </tr>\n",
        "    <tr>\n",
        "      <th>Date</th>\n",
        "      <th></th>\n",
        "      <th></th>\n",
        "      <th></th>\n",
        "      <th></th>\n",
        "      <th></th>\n",
        "      <th></th>\n",
        "      <th></th>\n",
        "      <th></th>\n",
        "    </tr>\n",
        "  </thead>\n",
        "  <tbody>\n",
        "    <tr>\n",
        "      <th>1986-12-31</th>\n",
        "      <td> 775.00</td>\n",
        "      <td> 900.82</td>\n",
        "      <td> 82.76</td>\n",
        "      <td> 98.58</td>\n",
        "      <td> 98.06</td>\n",
        "      <td> 69.06</td>\n",
        "      <td> 645.26</td>\n",
        "      <td> 65.56</td>\n",
        "    </tr>\n",
        "    <tr>\n",
        "      <th>1987-01-01</th>\n",
        "      <td> 775.00</td>\n",
        "      <td> 900.82</td>\n",
        "      <td> 82.76</td>\n",
        "      <td> 98.58</td>\n",
        "      <td> 98.06</td>\n",
        "      <td> 69.06</td>\n",
        "      <td> 645.26</td>\n",
        "      <td> 65.56</td>\n",
        "    </tr>\n",
        "    <tr>\n",
        "      <th>1987-01-02</th>\n",
        "      <td> 770.89</td>\n",
        "      <td> 891.78</td>\n",
        "      <td> 82.57</td>\n",
        "      <td> 97.80</td>\n",
        "      <td> 97.43</td>\n",
        "      <td> 69.37</td>\n",
        "      <td> 647.62</td>\n",
        "      <td> 65.81</td>\n",
        "    </tr>\n",
        "    <tr>\n",
        "      <th>1987-01-05</th>\n",
        "      <td> 771.89</td>\n",
        "      <td> 898.33</td>\n",
        "      <td> 82.82</td>\n",
        "      <td> 98.60</td>\n",
        "      <td> 98.19</td>\n",
        "      <td> 69.16</td>\n",
        "      <td> 649.94</td>\n",
        "      <td> 65.82</td>\n",
        "    </tr>\n",
        "    <tr>\n",
        "      <th>1987-01-06</th>\n",
        "      <td> 775.92</td>\n",
        "      <td> 902.32</td>\n",
        "      <td> 83.28</td>\n",
        "      <td> 99.19</td>\n",
        "      <td> 98.83</td>\n",
        "      <td> 69.50</td>\n",
        "      <td> 652.49</td>\n",
        "      <td> 66.06</td>\n",
        "    </tr>\n",
        "  </tbody>\n",
        "</table>\n",
        "<p>5 rows \u00d7 8 columns</p>\n",
        "</div>"
       ],
       "metadata": {},
       "output_type": "pyout",
       "prompt_number": 12,
       "text": [
        "              SX5P    SX5E   SXXP   SXXE   SXXF   SXXA    DK5F   DKXF\n",
        "Date                                                                 \n",
        "1986-12-31  775.00  900.82  82.76  98.58  98.06  69.06  645.26  65.56\n",
        "1987-01-01  775.00  900.82  82.76  98.58  98.06  69.06  645.26  65.56\n",
        "1987-01-02  770.89  891.78  82.57  97.80  97.43  69.37  647.62  65.81\n",
        "1987-01-05  771.89  898.33  82.82  98.60  98.19  69.16  649.94  65.82\n",
        "1987-01-06  775.92  902.32  83.28  99.19  98.83  69.50  652.49  66.06\n",
        "\n",
        "[5 rows x 8 columns]"
       ]
      }
     ],
     "prompt_number": 12
    },
    {
     "cell_type": "code",
     "collapsed": false,
     "input": [
      "vs.describe()"
     ],
     "language": "python",
     "metadata": {},
     "outputs": [
      {
       "html": [
        "<div style=\"max-height:1000px;max-width:1500px;overflow:auto;\">\n",
        "<table border=\"1\" class=\"dataframe\">\n",
        "  <thead>\n",
        "    <tr style=\"text-align: right;\">\n",
        "      <th></th>\n",
        "      <th>V2TX</th>\n",
        "      <th>V6I1</th>\n",
        "      <th>V6I2</th>\n",
        "      <th>V6I3</th>\n",
        "      <th>V6I4</th>\n",
        "      <th>V6I5</th>\n",
        "      <th>V6I6</th>\n",
        "      <th>V6I7</th>\n",
        "      <th>V6I8</th>\n",
        "    </tr>\n",
        "  </thead>\n",
        "  <tbody>\n",
        "    <tr>\n",
        "      <th>count</th>\n",
        "      <td> 3568.000000</td>\n",
        "      <td> 3190.000000</td>\n",
        "      <td> 3568.000000</td>\n",
        "      <td> 3532.000000</td>\n",
        "      <td> 3568.000000</td>\n",
        "      <td> 3568.000000</td>\n",
        "      <td> 3557.000000</td>\n",
        "      <td> 3568.000000</td>\n",
        "      <td> 3561.000000</td>\n",
        "    </tr>\n",
        "    <tr>\n",
        "      <th>mean</th>\n",
        "      <td>   26.256777</td>\n",
        "      <td>   27.409339</td>\n",
        "      <td>   26.206614</td>\n",
        "      <td>   25.597214</td>\n",
        "      <td>   26.744512</td>\n",
        "      <td>   26.685291</td>\n",
        "      <td>   26.133793</td>\n",
        "      <td>   26.609877</td>\n",
        "      <td>   25.707989</td>\n",
        "    </tr>\n",
        "    <tr>\n",
        "      <th>std</th>\n",
        "      <td>   10.159910</td>\n",
        "      <td>   11.758534</td>\n",
        "      <td>    9.916886</td>\n",
        "      <td>    9.126218</td>\n",
        "      <td>    8.315138</td>\n",
        "      <td>    7.482762</td>\n",
        "      <td>    6.870516</td>\n",
        "      <td>    6.467140</td>\n",
        "      <td>    5.778371</td>\n",
        "    </tr>\n",
        "    <tr>\n",
        "      <th>min</th>\n",
        "      <td>   11.600000</td>\n",
        "      <td>    0.000000</td>\n",
        "      <td>   11.680000</td>\n",
        "      <td>   11.630000</td>\n",
        "      <td>   12.600000</td>\n",
        "      <td>   13.240000</td>\n",
        "      <td>   11.930000</td>\n",
        "      <td>   14.640000</td>\n",
        "      <td>   12.320000</td>\n",
        "    </tr>\n",
        "    <tr>\n",
        "      <th>25%</th>\n",
        "      <td>   19.800000</td>\n",
        "      <td>   19.805000</td>\n",
        "      <td>   19.970000</td>\n",
        "      <td>   19.430000</td>\n",
        "      <td>   21.550000</td>\n",
        "      <td>   22.085000</td>\n",
        "      <td>   21.420000</td>\n",
        "      <td>   22.377500</td>\n",
        "      <td>   21.420000</td>\n",
        "    </tr>\n",
        "    <tr>\n",
        "      <th>50%</th>\n",
        "      <td>   24.390000</td>\n",
        "      <td>   24.875000</td>\n",
        "      <td>   24.430000</td>\n",
        "      <td>   24.140000</td>\n",
        "      <td>   25.665000</td>\n",
        "      <td>   25.735000</td>\n",
        "      <td>   25.370000</td>\n",
        "      <td>   25.920000</td>\n",
        "      <td>   24.890000</td>\n",
        "    </tr>\n",
        "    <tr>\n",
        "      <th>75%</th>\n",
        "      <td>   29.305000</td>\n",
        "      <td>   31.075000</td>\n",
        "      <td>   29.150000</td>\n",
        "      <td>   28.772500</td>\n",
        "      <td>   30.082500</td>\n",
        "      <td>   30.270000</td>\n",
        "      <td>   30.190000</td>\n",
        "      <td>   30.522500</td>\n",
        "      <td>   29.430000</td>\n",
        "    </tr>\n",
        "    <tr>\n",
        "      <th>max</th>\n",
        "      <td>   87.510000</td>\n",
        "      <td>  115.710000</td>\n",
        "      <td>   83.380000</td>\n",
        "      <td>   73.080000</td>\n",
        "      <td>   64.460000</td>\n",
        "      <td>   56.810000</td>\n",
        "      <td>   49.730000</td>\n",
        "      <td>   52.900000</td>\n",
        "      <td>   44.680000</td>\n",
        "    </tr>\n",
        "  </tbody>\n",
        "</table>\n",
        "<p>8 rows \u00d7 9 columns</p>\n",
        "</div>"
       ],
       "metadata": {},
       "output_type": "pyout",
       "prompt_number": 13,
       "text": [
        "              V2TX         V6I1         V6I2         V6I3         V6I4  \\\n",
        "count  3568.000000  3190.000000  3568.000000  3532.000000  3568.000000   \n",
        "mean     26.256777    27.409339    26.206614    25.597214    26.744512   \n",
        "std      10.159910    11.758534     9.916886     9.126218     8.315138   \n",
        "min      11.600000     0.000000    11.680000    11.630000    12.600000   \n",
        "25%      19.800000    19.805000    19.970000    19.430000    21.550000   \n",
        "50%      24.390000    24.875000    24.430000    24.140000    25.665000   \n",
        "75%      29.305000    31.075000    29.150000    28.772500    30.082500   \n",
        "max      87.510000   115.710000    83.380000    73.080000    64.460000   \n",
        "\n",
        "              V6I5         V6I6         V6I7         V6I8  \n",
        "count  3568.000000  3557.000000  3568.000000  3561.000000  \n",
        "mean     26.685291    26.133793    26.609877    25.707989  \n",
        "std       7.482762     6.870516     6.467140     5.778371  \n",
        "min      13.240000    11.930000    14.640000    12.320000  \n",
        "25%      22.085000    21.420000    22.377500    21.420000  \n",
        "50%      25.735000    25.370000    25.920000    24.890000  \n",
        "75%      30.270000    30.190000    30.522500    29.430000  \n",
        "max      56.810000    49.730000    52.900000    44.680000  \n",
        "\n",
        "[8 rows x 9 columns]"
       ]
      }
     ],
     "prompt_number": 13
    },
    {
     "cell_type": "code",
     "collapsed": false,
     "input": [
      "vs.head()"
     ],
     "language": "python",
     "metadata": {},
     "outputs": [
      {
       "html": [
        "<div style=\"max-height:1000px;max-width:1500px;overflow:auto;\">\n",
        "<table border=\"1\" class=\"dataframe\">\n",
        "  <thead>\n",
        "    <tr style=\"text-align: right;\">\n",
        "      <th></th>\n",
        "      <th>V2TX</th>\n",
        "      <th>V6I1</th>\n",
        "      <th>V6I2</th>\n",
        "      <th>V6I3</th>\n",
        "      <th>V6I4</th>\n",
        "      <th>V6I5</th>\n",
        "      <th>V6I6</th>\n",
        "      <th>V6I7</th>\n",
        "      <th>V6I8</th>\n",
        "    </tr>\n",
        "    <tr>\n",
        "      <th>Date</th>\n",
        "      <th></th>\n",
        "      <th></th>\n",
        "      <th></th>\n",
        "      <th></th>\n",
        "      <th></th>\n",
        "      <th></th>\n",
        "      <th></th>\n",
        "      <th></th>\n",
        "      <th></th>\n",
        "    </tr>\n",
        "  </thead>\n",
        "  <tbody>\n",
        "    <tr>\n",
        "      <th>1999-01-04</th>\n",
        "      <td> 18.20</td>\n",
        "      <td> 21.25</td>\n",
        "      <td> 17.56</td>\n",
        "      <td> 31.22</td>\n",
        "      <td> 33.31</td>\n",
        "      <td> 33.73</td>\n",
        "      <td> 33.22</td>\n",
        "      <td> 31.85</td>\n",
        "      <td> 23.82</td>\n",
        "    </tr>\n",
        "    <tr>\n",
        "      <th>1999-01-05</th>\n",
        "      <td> 29.69</td>\n",
        "      <td> 36.64</td>\n",
        "      <td> 28.43</td>\n",
        "      <td> 32.69</td>\n",
        "      <td> 33.73</td>\n",
        "      <td> 33.17</td>\n",
        "      <td> 32.85</td>\n",
        "      <td> 32.29</td>\n",
        "      <td> 25.05</td>\n",
        "    </tr>\n",
        "    <tr>\n",
        "      <th>1999-01-06</th>\n",
        "      <td> 25.17</td>\n",
        "      <td> 25.41</td>\n",
        "      <td> 25.14</td>\n",
        "      <td> 32.22</td>\n",
        "      <td> 32.65</td>\n",
        "      <td> 31.97</td>\n",
        "      <td> 32.93</td>\n",
        "      <td> 33.29</td>\n",
        "      <td> 26.01</td>\n",
        "    </tr>\n",
        "    <tr>\n",
        "      <th>1999-01-07</th>\n",
        "      <td> 32.52</td>\n",
        "      <td> 35.44</td>\n",
        "      <td> 32.20</td>\n",
        "      <td> 36.13</td>\n",
        "      <td> 34.51</td>\n",
        "      <td> 33.11</td>\n",
        "      <td> 33.28</td>\n",
        "      <td> 33.73</td>\n",
        "      <td> 26.22</td>\n",
        "    </tr>\n",
        "    <tr>\n",
        "      <th>1999-01-08</th>\n",
        "      <td> 33.23</td>\n",
        "      <td> 35.88</td>\n",
        "      <td> 33.00</td>\n",
        "      <td> 36.08</td>\n",
        "      <td> 36.40</td>\n",
        "      <td> 33.47</td>\n",
        "      <td> 33.48</td>\n",
        "      <td> 33.92</td>\n",
        "      <td> 26.37</td>\n",
        "    </tr>\n",
        "  </tbody>\n",
        "</table>\n",
        "<p>5 rows \u00d7 9 columns</p>\n",
        "</div>"
       ],
       "metadata": {},
       "output_type": "pyout",
       "prompt_number": 14,
       "text": [
        "             V2TX   V6I1   V6I2   V6I3   V6I4   V6I5   V6I6   V6I7   V6I8\n",
        "Date                                                                     \n",
        "1999-01-04  18.20  21.25  17.56  31.22  33.31  33.73  33.22  31.85  23.82\n",
        "1999-01-05  29.69  36.64  28.43  32.69  33.73  33.17  32.85  32.29  25.05\n",
        "1999-01-06  25.17  25.41  25.14  32.22  32.65  31.97  32.93  33.29  26.01\n",
        "1999-01-07  32.52  35.44  32.20  36.13  34.51  33.11  33.28  33.73  26.22\n",
        "1999-01-08  33.23  35.88  33.00  36.08  36.40  33.47  33.48  33.92  26.37\n",
        "\n",
        "[5 rows x 9 columns]"
       ]
      }
     ],
     "prompt_number": 14
    },
    {
     "cell_type": "markdown",
     "metadata": {},
     "source": [
      "### Establish Content of Interest\n",
      "Create a new dataset that contains EURO STOXX 50 prices in EUR (SX5E) from es.txt and the VSTOXX (V2TX) values from vs.txt since 01 Jan 2000."
     ]
    },
    {
     "cell_type": "code",
     "collapsed": false,
     "input": [
      "data = DataFrame({'EUROSTOXX' : es['SX5E'][es.index > datetime(1999, 12, 31)],\n",
      "                  'VSTOXX' : vs['V2TX'][vs.index > datetime(1999, 12, 31)]})\n",
      "data.describe()"
     ],
     "language": "python",
     "metadata": {},
     "outputs": [
      {
       "html": [
        "<div style=\"max-height:1000px;max-width:1500px;overflow:auto;\">\n",
        "<table border=\"1\" class=\"dataframe\">\n",
        "  <thead>\n",
        "    <tr style=\"text-align: right;\">\n",
        "      <th></th>\n",
        "      <th>EUROSTOXX</th>\n",
        "      <th>VSTOXX</th>\n",
        "    </tr>\n",
        "  </thead>\n",
        "  <tbody>\n",
        "    <tr>\n",
        "      <th>count</th>\n",
        "      <td> 3332.00000</td>\n",
        "      <td> 3314.000000</td>\n",
        "    </tr>\n",
        "    <tr>\n",
        "      <th>mean</th>\n",
        "      <td> 3256.72934</td>\n",
        "      <td>   26.206014</td>\n",
        "    </tr>\n",
        "    <tr>\n",
        "      <th>std</th>\n",
        "      <td>  848.55381</td>\n",
        "      <td>   10.441883</td>\n",
        "    </tr>\n",
        "    <tr>\n",
        "      <th>min</th>\n",
        "      <td> 1809.98000</td>\n",
        "      <td>   11.600000</td>\n",
        "    </tr>\n",
        "    <tr>\n",
        "      <th>25%</th>\n",
        "      <td> 2583.36750</td>\n",
        "      <td>   19.322500</td>\n",
        "    </tr>\n",
        "    <tr>\n",
        "      <th>50%</th>\n",
        "      <td> 2950.87000</td>\n",
        "      <td>   24.170000</td>\n",
        "    </tr>\n",
        "    <tr>\n",
        "      <th>75%</th>\n",
        "      <td> 3809.30500</td>\n",
        "      <td>   29.320000</td>\n",
        "    </tr>\n",
        "    <tr>\n",
        "      <th>max</th>\n",
        "      <td> 5464.43000</td>\n",
        "      <td>   87.510000</td>\n",
        "    </tr>\n",
        "  </tbody>\n",
        "</table>\n",
        "<p>8 rows \u00d7 2 columns</p>\n",
        "</div>"
       ],
       "metadata": {},
       "output_type": "pyout",
       "prompt_number": 15,
       "text": [
        "        EUROSTOXX       VSTOXX\n",
        "count  3332.00000  3314.000000\n",
        "mean   3256.72934    26.206014\n",
        "std     848.55381    10.441883\n",
        "min    1809.98000    11.600000\n",
        "25%    2583.36750    19.322500\n",
        "50%    2950.87000    24.170000\n",
        "75%    3809.30500    29.320000\n",
        "max    5464.43000    87.510000\n",
        "\n",
        "[8 rows x 2 columns]"
       ]
      }
     ],
     "prompt_number": 15
    },
    {
     "cell_type": "code",
     "collapsed": false,
     "input": [
      "data.head()"
     ],
     "language": "python",
     "metadata": {},
     "outputs": [
      {
       "html": [
        "<div style=\"max-height:1000px;max-width:1500px;overflow:auto;\">\n",
        "<table border=\"1\" class=\"dataframe\">\n",
        "  <thead>\n",
        "    <tr style=\"text-align: right;\">\n",
        "      <th></th>\n",
        "      <th>EUROSTOXX</th>\n",
        "      <th>VSTOXX</th>\n",
        "    </tr>\n",
        "    <tr>\n",
        "      <th>Date</th>\n",
        "      <th></th>\n",
        "      <th></th>\n",
        "    </tr>\n",
        "  </thead>\n",
        "  <tbody>\n",
        "    <tr>\n",
        "      <th>2000-01-03</th>\n",
        "      <td> 4849.22</td>\n",
        "      <td> 30.98</td>\n",
        "    </tr>\n",
        "    <tr>\n",
        "      <th>2000-01-04</th>\n",
        "      <td> 4657.83</td>\n",
        "      <td> 33.22</td>\n",
        "    </tr>\n",
        "    <tr>\n",
        "      <th>2000-01-05</th>\n",
        "      <td> 4541.75</td>\n",
        "      <td> 32.59</td>\n",
        "    </tr>\n",
        "    <tr>\n",
        "      <th>2000-01-06</th>\n",
        "      <td> 4500.69</td>\n",
        "      <td> 31.18</td>\n",
        "    </tr>\n",
        "    <tr>\n",
        "      <th>2000-01-07</th>\n",
        "      <td> 4648.27</td>\n",
        "      <td> 27.44</td>\n",
        "    </tr>\n",
        "  </tbody>\n",
        "</table>\n",
        "<p>5 rows \u00d7 2 columns</p>\n",
        "</div>"
       ],
       "metadata": {},
       "output_type": "pyout",
       "prompt_number": 16,
       "text": [
        "            EUROSTOXX  VSTOXX\n",
        "Date                         \n",
        "2000-01-03    4849.22   30.98\n",
        "2000-01-04    4657.83   33.22\n",
        "2000-01-05    4541.75   32.59\n",
        "2000-01-06    4500.69   31.18\n",
        "2000-01-07    4648.27   27.44\n",
        "\n",
        "[5 rows x 2 columns]"
       ]
      }
     ],
     "prompt_number": 16
    },
    {
     "cell_type": "markdown",
     "metadata": {},
     "source": [
      "## Installation of HDF5\n",
      "Install the following:\n",
      "```\n",
      "pip install h5py\n",
      "```"
     ]
    },
    {
     "cell_type": "code",
     "collapsed": false,
     "input": [
      "!pip install h5py"
     ],
     "language": "python",
     "metadata": {},
     "outputs": [
      {
       "output_type": "stream",
       "stream": "stdout",
       "text": [
        "Requirement already satisfied (use --upgrade to upgrade): h5py in /home/notebook/ka_env/lib/python2.7/site-packages\r\n",
        "Cleaning up...\r\n"
       ]
      }
     ],
     "prompt_number": 17
    },
    {
     "cell_type": "markdown",
     "metadata": {},
     "source": [
      "## Create HDF5 Database"
     ]
    },
    {
     "cell_type": "code",
     "collapsed": false,
     "input": [
      "h5 = HDFStore('data.h5')\n",
      "h5['es'] = es\n",
      "h5['vs'] = vs\n",
      "h5['data'] = data\n",
      "h5"
     ],
     "language": "python",
     "metadata": {},
     "outputs": [
      {
       "metadata": {},
       "output_type": "pyout",
       "prompt_number": 18,
       "text": [
        "<class 'pandas.io.pytables.HDFStore'>\n",
        "File path: data.h5\n",
        "/data            frame        (shape->[3333,2])\n",
        "/es              frame        (shape->[6707,8])\n",
        "/vs              frame        (shape->[3568,9])"
       ]
      }
     ],
     "prompt_number": 18
    },
    {
     "cell_type": "code",
     "collapsed": false,
     "input": [
      "h5.close()"
     ],
     "language": "python",
     "metadata": {},
     "outputs": [],
     "prompt_number": 19
    },
    {
     "cell_type": "markdown",
     "metadata": {},
     "source": [
      "## Data Analysis\n",
      "Use the Data Frame data.h5 to explore the correlation between EURO STOXX 50 and VSTOXX. There is a number of empirical studies that show that the volatility indexes are in general strongly negatively correlated with stock indexes.\n",
      "\n",
      "### Open HDF5 Datastore"
     ]
    },
    {
     "cell_type": "code",
     "collapsed": false,
     "input": [
      "h5 = HDFStore('data.h5', 'a')\n",
      "es = h5['es']\n",
      "vs = h5['vs']\n",
      "data = h5['data']\n",
      "h5.close()"
     ],
     "language": "python",
     "metadata": {},
     "outputs": [],
     "prompt_number": 20
    },
    {
     "cell_type": "code",
     "collapsed": false,
     "input": [
      "data.head()"
     ],
     "language": "python",
     "metadata": {},
     "outputs": [
      {
       "html": [
        "<div style=\"max-height:1000px;max-width:1500px;overflow:auto;\">\n",
        "<table border=\"1\" class=\"dataframe\">\n",
        "  <thead>\n",
        "    <tr style=\"text-align: right;\">\n",
        "      <th></th>\n",
        "      <th>EUROSTOXX</th>\n",
        "      <th>VSTOXX</th>\n",
        "    </tr>\n",
        "    <tr>\n",
        "      <th>Date</th>\n",
        "      <th></th>\n",
        "      <th></th>\n",
        "    </tr>\n",
        "  </thead>\n",
        "  <tbody>\n",
        "    <tr>\n",
        "      <th>2000-01-03</th>\n",
        "      <td> 4849.22</td>\n",
        "      <td> 30.98</td>\n",
        "    </tr>\n",
        "    <tr>\n",
        "      <th>2000-01-04</th>\n",
        "      <td> 4657.83</td>\n",
        "      <td> 33.22</td>\n",
        "    </tr>\n",
        "    <tr>\n",
        "      <th>2000-01-05</th>\n",
        "      <td> 4541.75</td>\n",
        "      <td> 32.59</td>\n",
        "    </tr>\n",
        "    <tr>\n",
        "      <th>2000-01-06</th>\n",
        "      <td> 4500.69</td>\n",
        "      <td> 31.18</td>\n",
        "    </tr>\n",
        "    <tr>\n",
        "      <th>2000-01-07</th>\n",
        "      <td> 4648.27</td>\n",
        "      <td> 27.44</td>\n",
        "    </tr>\n",
        "  </tbody>\n",
        "</table>\n",
        "<p>5 rows \u00d7 2 columns</p>\n",
        "</div>"
       ],
       "metadata": {},
       "output_type": "pyout",
       "prompt_number": 21,
       "text": [
        "            EUROSTOXX  VSTOXX\n",
        "Date                         \n",
        "2000-01-03    4849.22   30.98\n",
        "2000-01-04    4657.83   33.22\n",
        "2000-01-05    4541.75   32.59\n",
        "2000-01-06    4500.69   31.18\n",
        "2000-01-07    4648.27   27.44\n",
        "\n",
        "[5 rows x 2 columns]"
       ]
      }
     ],
     "prompt_number": 21
    },
    {
     "cell_type": "code",
     "collapsed": false,
     "input": [
      "%matplotlib inline"
     ],
     "language": "python",
     "metadata": {},
     "outputs": [],
     "prompt_number": 22
    },
    {
     "cell_type": "markdown",
     "metadata": {},
     "source": [
      "### Plot the EURO STOXX 50 and VSTOXX indexes"
     ]
    },
    {
     "cell_type": "code",
     "collapsed": false,
     "input": [
      "data.plot(subplots=True, figsize=(9, 4), color='blue', grid=True)"
     ],
     "language": "python",
     "metadata": {},
     "outputs": [
      {
       "metadata": {},
       "output_type": "pyout",
       "prompt_number": 23,
       "text": [
        "array([<matplotlib.axes.AxesSubplot object at 0x7fd3aed78050>,\n",
        "       <matplotlib.axes.AxesSubplot object at 0x7fd3aed63b50>], dtype=object)"
       ]
      },
      {
       "metadata": {},
       "output_type": "display_data",
       "png": "[encoded data removed]",
       "text": [
        "<matplotlib.figure.Figure at 0x7fd3aed8f690>"
       ]
      }
     ],
     "prompt_number": 23
    },
    {
     "cell_type": "markdown",
     "metadata": {},
     "source": [
      "**Observation**: The two indexes seem to be highly negatively correlated. When the EURO STOXX 50 goes up, the VSTOXX comes down and vice versa. Something sometimes called the leverage effect.\n",
      "\n",
      "### Computation of Changes\n",
      "To calculate and visualize the absolute changes, we plot a histogram which shows the absolute differences and their absolute frequencies."
     ]
    },
    {
     "cell_type": "code",
     "collapsed": false,
     "input": [
      "data.diff().hist(color='b', alpha=.5, bins=100)"
     ],
     "language": "python",
     "metadata": {},
     "outputs": [
      {
       "metadata": {},
       "output_type": "pyout",
       "prompt_number": 24,
       "text": [
        "array([[<matplotlib.axes.AxesSubplot object at 0x7fd3aebc5d90>,\n",
        "        <matplotlib.axes.AxesSubplot object at 0x7fd3aeaef790>]], dtype=object)"
       ]
      },
      {
       "metadata": {},
       "output_type": "display_data",
       "png": "[encoded data removed]",
       "text": [
        "<matplotlib.figure.Figure at 0x7fd3aebcfe50>"
       ]
      }
     ],
     "prompt_number": 24
    },
    {
     "cell_type": "markdown",
     "metadata": {},
     "source": [
      "The figure shows the absolute returns of both indexes on daily basis.\n",
      " \n",
      "**Observation**: The daily percentage changes might also be of interest. We can compute and plot them as well."
     ]
    },
    {
     "cell_type": "code",
     "collapsed": false,
     "input": [
      "data.pct_change().head()"
     ],
     "language": "python",
     "metadata": {},
     "outputs": [
      {
       "html": [
        "<div style=\"max-height:1000px;max-width:1500px;overflow:auto;\">\n",
        "<table border=\"1\" class=\"dataframe\">\n",
        "  <thead>\n",
        "    <tr style=\"text-align: right;\">\n",
        "      <th></th>\n",
        "      <th>EUROSTOXX</th>\n",
        "      <th>VSTOXX</th>\n",
        "    </tr>\n",
        "    <tr>\n",
        "      <th>Date</th>\n",
        "      <th></th>\n",
        "      <th></th>\n",
        "    </tr>\n",
        "  </thead>\n",
        "  <tbody>\n",
        "    <tr>\n",
        "      <th>2000-01-03</th>\n",
        "      <td>      NaN</td>\n",
        "      <td>      NaN</td>\n",
        "    </tr>\n",
        "    <tr>\n",
        "      <th>2000-01-04</th>\n",
        "      <td>-0.039468</td>\n",
        "      <td> 0.072305</td>\n",
        "    </tr>\n",
        "    <tr>\n",
        "      <th>2000-01-05</th>\n",
        "      <td>-0.024921</td>\n",
        "      <td>-0.018964</td>\n",
        "    </tr>\n",
        "    <tr>\n",
        "      <th>2000-01-06</th>\n",
        "      <td>-0.009041</td>\n",
        "      <td>-0.043265</td>\n",
        "    </tr>\n",
        "    <tr>\n",
        "      <th>2000-01-07</th>\n",
        "      <td> 0.032791</td>\n",
        "      <td>-0.119949</td>\n",
        "    </tr>\n",
        "  </tbody>\n",
        "</table>\n",
        "<p>5 rows \u00d7 2 columns</p>\n",
        "</div>"
       ],
       "metadata": {},
       "output_type": "pyout",
       "prompt_number": 25,
       "text": [
        "            EUROSTOXX    VSTOXX\n",
        "Date                           \n",
        "2000-01-03        NaN       NaN\n",
        "2000-01-04  -0.039468  0.072305\n",
        "2000-01-05  -0.024921 -0.018964\n",
        "2000-01-06  -0.009041 -0.043265\n",
        "2000-01-07   0.032791 -0.119949\n",
        "\n",
        "[5 rows x 2 columns]"
       ]
      }
     ],
     "prompt_number": 25
    },
    {
     "cell_type": "code",
     "collapsed": false,
     "input": [
      "data.pct_change().hist(color='b', alpha=.5, bins=100)"
     ],
     "language": "python",
     "metadata": {},
     "outputs": [
      {
       "metadata": {},
       "output_type": "pyout",
       "prompt_number": 26,
       "text": [
        "array([[<matplotlib.axes.AxesSubplot object at 0x7fd3aeb13310>,\n",
        "        <matplotlib.axes.AxesSubplot object at 0x7fd3ae52c0d0>]], dtype=object)"
       ]
      },
      {
       "metadata": {},
       "output_type": "display_data",
       "png": "[encoded data removed]",
       "text": [
        "<matplotlib.figure.Figure at 0x7fd3ae65bd90>"
       ]
      }
     ],
     "prompt_number": 26
    },
    {
     "cell_type": "markdown",
     "metadata": {},
     "source": [
      "### Calculation of Log-Returns\n",
      "In financial applications, one is often interested in daily log-returns. We will calculate them and store them in the Data Frame data. To this end, we generate two now columns using the shift method. Then we plot the results."
     ]
    },
    {
     "cell_type": "code",
     "collapsed": false,
     "input": [
      "data['esr'] = log(data['EUROSTOXX'] / data['EUROSTOXX'].shift(1))\n",
      "data['vsr'] = log(data['VSTOXX'] / data['VSTOXX'].shift(1))\n",
      "data.head()"
     ],
     "language": "python",
     "metadata": {},
     "outputs": [
      {
       "html": [
        "<div style=\"max-height:1000px;max-width:1500px;overflow:auto;\">\n",
        "<table border=\"1\" class=\"dataframe\">\n",
        "  <thead>\n",
        "    <tr style=\"text-align: right;\">\n",
        "      <th></th>\n",
        "      <th>EUROSTOXX</th>\n",
        "      <th>VSTOXX</th>\n",
        "      <th>esr</th>\n",
        "      <th>vsr</th>\n",
        "    </tr>\n",
        "    <tr>\n",
        "      <th>Date</th>\n",
        "      <th></th>\n",
        "      <th></th>\n",
        "      <th></th>\n",
        "      <th></th>\n",
        "    </tr>\n",
        "  </thead>\n",
        "  <tbody>\n",
        "    <tr>\n",
        "      <th>2000-01-03</th>\n",
        "      <td> 4849.22</td>\n",
        "      <td> 30.98</td>\n",
        "      <td>      NaN</td>\n",
        "      <td>      NaN</td>\n",
        "    </tr>\n",
        "    <tr>\n",
        "      <th>2000-01-04</th>\n",
        "      <td> 4657.83</td>\n",
        "      <td> 33.22</td>\n",
        "      <td>-0.040268</td>\n",
        "      <td> 0.069810</td>\n",
        "    </tr>\n",
        "    <tr>\n",
        "      <th>2000-01-05</th>\n",
        "      <td> 4541.75</td>\n",
        "      <td> 32.59</td>\n",
        "      <td>-0.025237</td>\n",
        "      <td>-0.019147</td>\n",
        "    </tr>\n",
        "    <tr>\n",
        "      <th>2000-01-06</th>\n",
        "      <td> 4500.69</td>\n",
        "      <td> 31.18</td>\n",
        "      <td>-0.009082</td>\n",
        "      <td>-0.044229</td>\n",
        "    </tr>\n",
        "    <tr>\n",
        "      <th>2000-01-07</th>\n",
        "      <td> 4648.27</td>\n",
        "      <td> 27.44</td>\n",
        "      <td> 0.032264</td>\n",
        "      <td>-0.127775</td>\n",
        "    </tr>\n",
        "  </tbody>\n",
        "</table>\n",
        "<p>5 rows \u00d7 4 columns</p>\n",
        "</div>"
       ],
       "metadata": {},
       "output_type": "pyout",
       "prompt_number": 27,
       "text": [
        "            EUROSTOXX  VSTOXX       esr       vsr\n",
        "Date                                             \n",
        "2000-01-03    4849.22   30.98       NaN       NaN\n",
        "2000-01-04    4657.83   33.22 -0.040268  0.069810\n",
        "2000-01-05    4541.75   32.59 -0.025237 -0.019147\n",
        "2000-01-06    4500.69   31.18 -0.009082 -0.044229\n",
        "2000-01-07    4648.27   27.44  0.032264 -0.127775\n",
        "\n",
        "[5 rows x 4 columns]"
       ]
      }
     ],
     "prompt_number": 27
    },
    {
     "cell_type": "code",
     "collapsed": false,
     "input": [
      "data[['esr', 'vsr']].plot(subplots=True, figsize=(9, 4), color='blue', grid=True)"
     ],
     "language": "python",
     "metadata": {},
     "outputs": [
      {
       "metadata": {},
       "output_type": "pyout",
       "prompt_number": 28,
       "text": [
        "array([<matplotlib.axes.AxesSubplot object at 0x7fd3ae08ccd0>,\n",
        "       <matplotlib.axes.AxesSubplot object at 0x7fd3ae011bd0>], dtype=object)"
       ]
      },
      {
       "metadata": {},
       "output_type": "display_data",
       "png": "[encoded data removed]",
       "text": [
        "<matplotlib.figure.Figure at 0x7fd3b3d66ed0>"
       ]
      }
     ],
     "prompt_number": 28
    },
    {
     "cell_type": "markdown",
     "metadata": {},
     "source": [
      "### Correlation between EURO STOXX 50 and VSTOXX\n",
      "There are (at least) two possible ways to calculate the correlation between both log-returns. On the one hand, we can generate a correlation matrix as output (which would be preferred for more than two time series). On the other hand, we can compute the correlation directly between the two time series of interest:"
     ]
    },
    {
     "cell_type": "code",
     "collapsed": false,
     "input": [
      "data[['esr','vsr']].corr()"
     ],
     "language": "python",
     "metadata": {},
     "outputs": [
      {
       "html": [
        "<div style=\"max-height:1000px;max-width:1500px;overflow:auto;\">\n",
        "<table border=\"1\" class=\"dataframe\">\n",
        "  <thead>\n",
        "    <tr style=\"text-align: right;\">\n",
        "      <th></th>\n",
        "      <th>esr</th>\n",
        "      <th>vsr</th>\n",
        "    </tr>\n",
        "  </thead>\n",
        "  <tbody>\n",
        "    <tr>\n",
        "      <th>esr</th>\n",
        "      <td> 1.00000</td>\n",
        "      <td>-0.75278</td>\n",
        "    </tr>\n",
        "    <tr>\n",
        "      <th>vsr</th>\n",
        "      <td>-0.75278</td>\n",
        "      <td> 1.00000</td>\n",
        "    </tr>\n",
        "  </tbody>\n",
        "</table>\n",
        "<p>2 rows \u00d7 2 columns</p>\n",
        "</div>"
       ],
       "metadata": {},
       "output_type": "pyout",
       "prompt_number": 29,
       "text": [
        "         esr      vsr\n",
        "esr  1.00000 -0.75278\n",
        "vsr -0.75278  1.00000\n",
        "\n",
        "[2 rows x 2 columns]"
       ]
      }
     ],
     "prompt_number": 29
    },
    {
     "cell_type": "code",
     "collapsed": false,
     "input": [
      "data['esr'].corr(data['vsr'])"
     ],
     "language": "python",
     "metadata": {},
     "outputs": [
      {
       "metadata": {},
       "output_type": "pyout",
       "prompt_number": 30,
       "text": [
        "-0.75277950362156976"
       ]
      }
     ],
     "prompt_number": 30
    },
    {
     "cell_type": "markdown",
     "metadata": {},
     "source": [
      "**Observation**: The log-returns of both indexes are highly negatively correlated. Again support for the leverage effect which implies that with dropping index levels risk increases. Also, if index levels rise, risks come down in general."
     ]
    },
    {
     "cell_type": "code",
     "collapsed": false,
     "input": [],
     "language": "python",
     "metadata": {},
     "outputs": [],
     "prompt_number": 30
    }
   ],
   "metadata": {}
  }
 ]
}