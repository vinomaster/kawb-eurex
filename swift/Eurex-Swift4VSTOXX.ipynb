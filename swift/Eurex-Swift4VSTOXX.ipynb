{
 "metadata": {
  "name": "",
  "signature": "sha256:9b6a1fa1f0fffcb7d69cc663325682491882051f788797bf9890951618506b6b"
 },
 "nbformat": 3,
 "nbformat_minor": 0,
 "worksheets": [
  {
   "cells": [
    {
     "cell_type": "markdown",
     "metadata": {},
     "source": [
      "# Analyzing Historical VSTOXX Data\n",
      "A Sample notebook based on the [EurEX Tutorial](http://www.eurexchange.com/vstoxx/b_Analyzing_Historical_VSTOXX_Data.html#index-1)\n",
      "\n",
      "## SWIFT Object Store for EurEx\n",
      "This notebook demonstrates the use of importable notebooks in the Knowledge Anyhow Workbench (KAWB). \n",
      "\n",
      "### Tutorial Tasks\n",
      "\n",
      "1. Import a KAWB notebook.\n",
      "2. Create a new HDF database using Eurex content in the SoftLayer Object Store.\n",
      "3. Extract content from the database\n",
      "4. Explore correlations in the extracted data.\n",
      "\n",
      "## KAWB Importable Notebook Magic\n",
      "IBM's Knowledge Anyhow Workbench (KAWB) allows one notebookk to access the API of another notebook via the python **import** directive. "
     ]
    },
    {
     "cell_type": "code",
     "collapsed": false,
     "input": [
      "# Import a KAWB Notebook\n",
      "import kawb\n",
      "import mywb.ibmetech_swift4eurex as ibmetech_swift4eurex"
     ],
     "language": "python",
     "metadata": {},
     "outputs": []
    },
    {
     "cell_type": "code",
     "collapsed": false,
     "input": [
      "# Print the help associated with the imported notebook.\n",
      "ibmetech_swift4eurex.help()"
     ],
     "language": "python",
     "metadata": {},
     "outputs": []
    },
    {
     "cell_type": "markdown",
     "metadata": {},
     "source": [
      "## Get Data\n",
      "\n",
      "### Acquire SoftLayer Object Store Credentials\n",
      "Create a JSON files and add it to your workbench. The file should look like this:\n",
      "\n",
      "* Your SoftLayer Object Store Credentials\n",
      "```\n",
      "{\n",
      "    \"username\":\"xxxxxxxxx\", \n",
      "    \"api_key\":\"xxxxxxxxxxxxx\"\n",
      "}\n",
      "```"
     ]
    },
    {
     "cell_type": "code",
     "collapsed": false,
     "input": [
      "# Load SoftLayer Account Credentials\n",
      "import json\n",
      "with file('/resources/sl-swift-keys.json') as f:\n",
      "    sl_key = json.load(f)\n",
      "print(\"SoftLayer credentials are: \\nusername={0}\\napi_key={1}\").format(sl_key['username'], sl_key['api_key'])\n"
     ],
     "language": "python",
     "metadata": {},
     "outputs": []
    },
    {
     "cell_type": "markdown",
     "metadata": {},
     "source": [
      "### Create a database\n",
      "Using the data files stored in a designated SoftLayer Object Store, create a local HFS Database. This is accomplished for us via the Eurex object defined in our importable notebook."
     ]
    },
    {
     "cell_type": "code",
     "collapsed": false,
     "input": [
      "USERNAME = sl_key['username']\n",
      "API_KEY = sl_key['api_key']\n",
      "DBNAME = \"eurextutorial_1.h5\"\n",
      "eurex = ibmetech_swift4eurex.Eurex()\n",
      "eurex.connect(USERNAME,API_KEY)\n",
      "eurex.createHDF5(DBNAME)\n",
      "eurex.listDataSets(DBNAME)"
     ],
     "language": "python",
     "metadata": {},
     "outputs": []
    },
    {
     "cell_type": "markdown",
     "metadata": {},
     "source": [
      "### Load Data\n",
      "Create a dataframe of STOXX 50 prices and VSTOXX (V2TX) values since 01 Jan 2000. This content is stored in the st50 dataset within the database.\n",
      "."
     ]
    },
    {
     "cell_type": "code",
     "collapsed": false,
     "input": [
      "data = eurex.getDataSet('st50','/resources/eurextutorial_1.h5')\n",
      "data.head()"
     ],
     "language": "python",
     "metadata": {},
     "outputs": []
    },
    {
     "cell_type": "markdown",
     "metadata": {},
     "source": [
      "## Data Analysis\n",
      "Using our data from the SoftLayer Object Store, we can proceed with the analysis workflow outlined in the [Basic Eurex Analysis of Historical Data](http://www.eurexchange.com/vstoxx/b_Analyzing_Historical_VSTOXX_Data.html#index-1)"
     ]
    },
    {
     "cell_type": "code",
     "collapsed": false,
     "input": [
      "%matplotlib inline"
     ],
     "language": "python",
     "metadata": {},
     "outputs": []
    },
    {
     "cell_type": "markdown",
     "metadata": {},
     "source": [
      "#### Plot the EURO STOXX 50 and VSTOXX indexes"
     ]
    },
    {
     "cell_type": "code",
     "collapsed": false,
     "input": [
      "from pylab import *\n",
      "data.plot(subplots=True, figsize=(9, 4), color='blue', grid=True)"
     ],
     "language": "python",
     "metadata": {},
     "outputs": []
    },
    {
     "cell_type": "markdown",
     "metadata": {},
     "source": [
      "##### Observation\n",
      "The two indexes seem to be highly negatively correlated. When the EURO STOXX 50 goes up, the VSTOXX comes down and vice versa. Something sometimes called the leverage effect.\n",
      "\n",
      "#### Computation of Changes\n",
      "To calculate and visualize the absolute changes, we plot a histogram which shows the absolute differences and their absolute frequencies."
     ]
    },
    {
     "cell_type": "code",
     "collapsed": false,
     "input": [
      "data.diff().hist(color='b', alpha=.5, bins=100)"
     ],
     "language": "python",
     "metadata": {},
     "outputs": []
    },
    {
     "cell_type": "markdown",
     "metadata": {},
     "source": [
      "The figure shows the absolute returns of both indexes on daily basis.\n",
      "\n",
      "##### Observation\n",
      "The daily percentage changes might also be of interest. We can compute and plot them as well."
     ]
    },
    {
     "cell_type": "code",
     "collapsed": false,
     "input": [
      "data.pct_change().head()"
     ],
     "language": "python",
     "metadata": {},
     "outputs": []
    },
    {
     "cell_type": "code",
     "collapsed": false,
     "input": [
      "data.pct_change().hist(color='b', alpha=.5, bins=100)"
     ],
     "language": "python",
     "metadata": {},
     "outputs": []
    },
    {
     "cell_type": "markdown",
     "metadata": {},
     "source": [
      "#### Calculation of Log-Returns\n",
      "In financial applications, one is often interested in daily log-returns. We will calculate them and store them in the Data Frame data. To this end, we generate two now columns using the shift method. Then we plot the results."
     ]
    },
    {
     "cell_type": "code",
     "collapsed": false,
     "input": [
      "data['esr'] = log(data['EUROSTOXX'] / data['EUROSTOXX'].shift(1))\n",
      "data['vsr'] = log(data['VSTOXX'] / data['VSTOXX'].shift(1))\n",
      "data.head()"
     ],
     "language": "python",
     "metadata": {},
     "outputs": []
    },
    {
     "cell_type": "code",
     "collapsed": false,
     "input": [
      "data[['esr', 'vsr']].plot(subplots=True, figsize=(9, 4), color='blue', grid=True)"
     ],
     "language": "python",
     "metadata": {},
     "outputs": []
    },
    {
     "cell_type": "markdown",
     "metadata": {},
     "source": [
      "#### Correlation between EURO STOXX 50 and VSTOXX\n",
      "There are (at least) two possible ways to calculate the correlation between both log-returns. On the one hand, we can generate a correlation matrix as output (which would be preferred for more than two time series). On the other hand, we can compute the correlation directly between the two time series of interest:"
     ]
    },
    {
     "cell_type": "code",
     "collapsed": false,
     "input": [
      "data[['esr','vsr']].corr()"
     ],
     "language": "python",
     "metadata": {},
     "outputs": []
    },
    {
     "cell_type": "code",
     "collapsed": false,
     "input": [
      "data['esr'].corr(data['vsr'])"
     ],
     "language": "python",
     "metadata": {},
     "outputs": []
    },
    {
     "cell_type": "markdown",
     "metadata": {},
     "source": [
      "##### Observation\n",
      "The log-returns of both indexes are highly negatively correlated. Again support for the leverage effect which implies that with dropping index levels risk increases. Also, if index levels rise, risks come down in general."
     ]
    }
   ],
   "metadata": {}
  }
 ]
}