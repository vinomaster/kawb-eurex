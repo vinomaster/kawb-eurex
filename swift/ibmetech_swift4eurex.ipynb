{
 "metadata": {
  "name": "",
  "signature": "sha256:8907f0d5293cc873b25665c8512b7adf39ce6b770ff69d9c2a04dd3b4ca4207c"
 },
 "nbformat": 3,
 "nbformat_minor": 0,
 "worksheets": [
  {
   "cells": [
    {
     "cell_type": "markdown",
     "metadata": {},
     "source": [
      "# SoftLayer Object Storage for EurEx\n",
      "The [SoftLayer Object Store](http://sldn.softlayer.com/reference/objectstorageapi) can be used as content share for analytics. Data files from the Euro Exhange can be placed in the Object Store and then exploratory analytics can be preformed using a Python API."
     ]
    },
    {
     "cell_type": "markdown",
     "metadata": {},
     "source": [
      "## IBM eTech Swift for Eurex Help\n",
      "\n",
      "This importable notebook provides direct access to a specifc SoftLayer Object Store where the EurEx data sets are hosted by IBM SWG Emerging Technologies. \n",
      "\n",
      "While this notebook is project specific, it also serves as an example of how to develop an **importable notebook** for the IBM Knowledge Anyhow Workbench (KAWB). This notebook exposes an API and help methods that can be called by other notebooks.\n",
      "\n",
      "This notebook module requires the following commands to be executed prior to initial usage:\n",
      "\n",
      "```\n",
      "!pip install softlayer-object-storage\n",
      "```\n",
      "```\n",
      "!pip install h5py\n",
      "```\n",
      "\n",
      "This importable notebook defines the Eurex class. This class provides a simple interface for creating and reading HDF databases. This class is tightly coupled with the content in the SoftLayer Object Store used by the Eurex project. \n",
      "\n",
      "### Eurex Class Defintiion\n",
      "The following class methods are available:\n",
      "\n",
      "* Object Instantiation\n",
      "    * Eurex() - Class constructor   \n",
      "* Creating a database\n",
      "    * connect(Username, ApiKey) - Establishes an Object Store connection\n",
      "    * createHDF5(filename) - Create a new HDF database using the provided filename. This database is specific to the Eurex POC project.\n",
      "* Accessing a database\n",
      "    * listDataSets(filename) - List all datasets within the specified database.\n",
      "    * getDataSet(dataset,filename) - Get a DataFrame for the specified dataset within a specific databae.\n"
     ]
    },
    {
     "cell_type": "code",
     "collapsed": false,
     "input": [
      "# <help>"
     ],
     "language": "python",
     "metadata": {},
     "outputs": []
    },
    {
     "cell_type": "code",
     "collapsed": false,
     "input": [
      "# <api>\n",
      "import object_storage as swift\n",
      "import pandas as pd\n",
      "from StringIO import StringIO \n",
      "from datetime import datetime"
     ],
     "language": "python",
     "metadata": {},
     "outputs": []
    },
    {
     "cell_type": "code",
     "collapsed": false,
     "input": [
      "# <api>\n",
      "class Eurex(object):\n",
      "    \n",
      "    AUTH_URL = \"https://tor01.objectstorage.softlayer.net/auth/v1.0\"\n",
      "    HDF5_DEFAULT_FILENAME = \"eurexdata.h5\"\n",
      "       \n",
      "    # Private Class Methods\n",
      "    def __init__(self):\n",
      "        '''Class constructor.'''\n",
      "        self.sl_storage = None\n",
      "        \n",
      "    def __get_es_data__(self):\n",
      "        '''Returns a DataFrame for the ES dataset.'''\n",
      "        fh_es = self.sl_storage.get_object(\"eurex\",\"tutorial/es.txt\")\n",
      "        esdata = StringIO(fh_es.read())\n",
      "        es = pd.DataFrame.from_csv(esdata, sep=';', index_col=0, parse_dates=True)\n",
      "        return es\n",
      "    \n",
      "    def __get_vs_data__(self):\n",
      "        '''Returns a DataFrame for the VS dataset.'''\n",
      "        fh_vs = self.sl_storage.get_object(\"eurex\",\"tutorial/vs.txt\")\n",
      "        vsdata = StringIO(fh_vs.read())\n",
      "        vs = pd.DataFrame.from_csv(vsdata, sep=',', index_col=0, parse_dates=True)\n",
      "        return vs\n",
      "    \n",
      "    def __create_StoxxVstoxx50__(self,es,vs):\n",
      "        '''Create dataset of STOXX 50 prices and VSTOXX (V2TX) values since 01 Jan 2000.'''\n",
      "        data = pd.DataFrame({'EUROSTOXX' : es['SX5E'][es.index > datetime(1999, 12, 31)],\n",
      "                  'VSTOXX' : vs['V2TX'][vs.index > datetime(1999, 12, 31)]})\n",
      "        return data\n",
      "    \n",
      "    # Public Class Methods\n",
      "    def connect(self,username, apikey):\n",
      "        '''Create a connection to a Object Store.'''\n",
      "        self.sl_storage = swift.get_client(username, apikey, auth_url=self.AUTH_URL)\n",
      "   \n",
      "    def createHDF5(self,filename=HDF5_DEFAULT_FILENAME):\n",
      "        '''Create a HDF5 datafile.'''\n",
      "        es_data = self.__get_es_data__()\n",
      "        del es_data['DEL']\n",
      "        vs_data = self.__get_vs_data__()\n",
      "        st50_data = self.__create_StoxxVstoxx50__(es_data,vs_data)\n",
      "        h5 = pd.HDFStore(filename,'a')\n",
      "        h5['es'] = es_data\n",
      "        h5['vs'] = vs_data\n",
      "        h5['st50'] = st50_data\n",
      "        h5.close()\n",
      "    \n",
      "    def listDataSets(self,filename=HDF5_DEFAULT_FILENAME):\n",
      "        '''List the datasets associated with the specificed HDF database.'''\n",
      "        h5 = pd.HDFStore(filename,'r')\n",
      "        dsets = h5.keys()\n",
      "        print(\"The following datasets exist in the {0} database:\").format(filename)\n",
      "        for dset in dsets:\n",
      "            print dset[1:]\n",
      "        h5.close()\n",
      "    \n",
      "    def getDataSet(self,dataset,filename=HDF5_DEFAULT_FILENAME):\n",
      "        '''Returns a DataFrame for the requested HDF5 dataset'''\n",
      "        dset = None\n",
      "        h5 = pd.HDFStore(filename)\n",
      "        dsets = h5.keys()\n",
      "        qStr = \"/\" + dataset\n",
      "        if qStr not in dsets:\n",
      "            print(\"Dataset {0} not found in database.\").format(dataset)\n",
      "        else:\n",
      "            dset = h5.get(dataset)\n",
      "        h5.close()\n",
      "        return dset\n",
      "    "
     ],
     "language": "python",
     "metadata": {},
     "outputs": []
    },
    {
     "cell_type": "markdown",
     "metadata": {},
     "source": [
      "### Unit Tests"
     ]
    },
    {
     "cell_type": "markdown",
     "metadata": {},
     "source": [
      "#### Credentials\n",
      "Create a JSON files and add it to your workbench. The file should look like this:\n",
      "\n",
      "* Your SoftLayer Object Store Credentials\n",
      "```\n",
      "{\n",
      "    \"username\":\"xxxxxxxxx\", \n",
      "    \"api_key\":\"xxxxxxxxxxxxx\"\n",
      "}\n",
      "```"
     ]
    },
    {
     "cell_type": "code",
     "collapsed": false,
     "input": [
      "import json\n",
      "\n",
      "# Load SoftLayer Account Credentials\n",
      "with file('/resources/sl-swift-keys.json') as f:\n",
      "    sl_key = json.load(f)\n",
      "\n",
      "print(\"SoftLayer credentials are: \\nusername={0}\\napi_key={1}\").format(sl_key['username'], sl_key['api_key'])\n"
     ],
     "language": "python",
     "metadata": {},
     "outputs": []
    },
    {
     "cell_type": "markdown",
     "metadata": {},
     "source": [
      "#### Testcases"
     ]
    },
    {
     "cell_type": "code",
     "collapsed": false,
     "input": [
      "USERNAME = sl_key['username']\n",
      "API_KEY = sl_key['api_key']\n",
      "eurex = Eurex()\n",
      "eurex.listDataSets('/resources/data.h5')"
     ],
     "language": "python",
     "metadata": {},
     "outputs": []
    },
    {
     "cell_type": "code",
     "collapsed": false,
     "input": [
      "d = eurex.getDataSet('data','/resources/data.h5')\n",
      "d.head()"
     ],
     "language": "python",
     "metadata": {},
     "outputs": []
    },
    {
     "cell_type": "code",
     "collapsed": false,
     "input": [
      "d2 = eurex.getDataSet('junk','/resources/data.h5')\n",
      "if d2 is not None:\n",
      "    d2.head()"
     ],
     "language": "python",
     "metadata": {},
     "outputs": []
    },
    {
     "cell_type": "code",
     "collapsed": false,
     "input": [
      "ex = Eurex()\n",
      "ex.connect(USERNAME,API_KEY)\n",
      "ex.createHDF5()\n",
      "ex.listDataSets()"
     ],
     "language": "python",
     "metadata": {},
     "outputs": []
    }
   ],
   "metadata": {}
  }
 ]
}